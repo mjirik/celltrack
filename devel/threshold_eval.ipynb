{
 "cells": [
  {
   "cell_type": "code",
   "execution_count": 34,
   "metadata": {},
   "outputs": [
    {
     "name": "stdout",
     "output_type": "stream",
     "text": [
      "Populating the interactive namespace from numpy and matplotlib\n"
     ]
    }
   ],
   "source": [
    "%pylab inline\n",
    "import skimage\n",
    "import numpy as np\n",
    "from pathlib import Path\n",
    "import skimage.io\n",
    "\n",
    "import glob\n",
    "from skimage.filters import sobel, threshold_niblack, gaussian, threshold_otsu, threshold_li, threshold_mean, threshold_sauvola\n",
    "from skimage.morphology import label\n",
    "import pandas as pd\n",
    "import seaborn as sns\n",
    "# import sed3"
   ]
  },
  {
   "cell_type": "code",
   "execution_count": 35,
   "metadata": {},
   "outputs": [
    {
     "data": {
      "text/plain": [
       "['g:\\\\Můj disk\\\\data\\\\biology\\\\orig\\\\roots\\\\examples\\\\R2D2-20x-1.tif',\n",
       " 'g:\\\\Můj disk\\\\data\\\\biology\\\\orig\\\\roots\\\\examples\\\\DIIVenus-20x-2.tif',\n",
       " 'g:\\\\Můj disk\\\\data\\\\biology\\\\orig\\\\roots\\\\examples\\\\R2D2-40x-1.tif',\n",
       " 'g:\\\\Můj disk\\\\data\\\\biology\\\\orig\\\\roots\\\\examples\\\\DIIVenus-20x-1.tif',\n",
       " 'g:\\\\Můj disk\\\\data\\\\biology\\\\orig\\\\roots\\\\1channel\\\\20200311-DII-25las-GR1.tif',\n",
       " 'g:\\\\Můj disk\\\\data\\\\biology\\\\orig\\\\roots\\\\1channel\\\\20200226-DII-30las-2GR1.tif',\n",
       " 'g:\\\\Můj disk\\\\data\\\\biology\\\\orig\\\\roots\\\\1channel\\\\20200226-DII-30las-2PRE1.tif',\n",
       " 'g:\\\\Můj disk\\\\data\\\\biology\\\\orig\\\\roots\\\\1channel\\\\20200311-DII-25las-PRE1.tif',\n",
       " 'g:\\\\Můj disk\\\\data\\\\biology\\\\orig\\\\roots\\\\2channel\\\\20200305-r2d2-PRE3.tif',\n",
       " 'g:\\\\Můj disk\\\\data\\\\biology\\\\orig\\\\roots\\\\2channel\\\\20200305-r2d2-GR3.tif',\n",
       " 'g:\\\\Můj disk\\\\data\\\\biology\\\\orig\\\\roots\\\\2channel\\\\ControlAll-tiny.tif']"
      ]
     },
     "execution_count": 35,
     "metadata": {},
     "output_type": "execute_result"
    }
   ],
   "source": [
    "pth_roots = Path(r\"g:/Můj disk/data/biology/orig/roots/\")\n",
    "fns = glob.glob(str(pth_roots/ \"**/*.tif\"))\n",
    "fns"
   ]
  },
  {
   "cell_type": "code",
   "execution_count": 36,
   "metadata": {},
   "outputs": [],
   "source": [
    "fn = fns[0]"
   ]
  },
  {
   "cell_type": "code",
   "execution_count": 46,
   "metadata": {},
   "outputs": [],
   "source": [
    "def get_image(fn):\n",
    "    imgbig = skimage.io.imread(fn)\n",
    "    taxis = 0\n",
    "    caxis = 1\n",
    "    xaxis = -1\n",
    "    yaxis = -2\n",
    "    cvalue = imgbig.shape[caxis] - 1\n",
    "    sl = [0] * imgbig.ndim\n",
    "    sl[int(caxis)] = int(cvalue)\n",
    "    sl[int(xaxis)] = slice(None)\n",
    "    sl[int(yaxis)] = slice(None)\n",
    "    sl[int(taxis)] = slice(None)\n",
    "\n",
    "    img = imgbig[sl]\n",
    "    return img\n",
    "# print(img.shape)\n",
    "# threshold_otsu()"
   ]
  },
  {
   "cell_type": "code",
   "execution_count": 52,
   "metadata": {},
   "outputs": [],
   "source": [
    "def threshold_niblack_k0(im):\n",
    "    \n",
    "#     window = (int(imh * window_size), int(imw * window_size))\n",
    "    window = (np.asarray(im.shape)/8).astype(int)\n",
    "    if window[0] % 2 == 0:\n",
    "        window = (window[0] + 1, window[1])\n",
    "    if window[1] % 2 == 0:\n",
    "        window = (window[0], window[1] + 1)\n",
    "    \n",
    "    return threshold_niblack(im, k=0, window_size = window)\n",
    "\n",
    "thr_fcns = [\n",
    "    threshold_niblack_k0,\n",
    "    threshold_otsu,\n",
    "#     threshold_li, \n",
    "#     threshold_mean, \n",
    "    threshold_sauvola\n",
    "]"
   ]
  },
  {
   "cell_type": "code",
   "execution_count": null,
   "metadata": {},
   "outputs": [],
   "source": []
  },
  {
   "cell_type": "code",
   "execution_count": 39,
   "metadata": {},
   "outputs": [],
   "source": [
    "# Path(fn).stem + \"_thr\" "
   ]
  },
  {
   "cell_type": "code",
   "execution_count": 53,
   "metadata": {},
   "outputs": [
    {
     "name": "stderr",
     "output_type": "stream",
     "text": [
      "C:\\Users\\Jirik\\Miniconda3\\envs\\scaffan\\lib\\site-packages\\ipykernel_launcher.py:14: FutureWarning: Using a non-tuple sequence for multidimensional indexing is deprecated; use `arr[tuple(seq)]` instead of `arr[seq]`. In the future this will be interpreted as an array index, `arr[np.array(seq)]`, which will result either in an error or a different result.\n",
      "  \n"
     ]
    },
    {
     "name": "stdout",
     "output_type": "stream",
     "text": [
      "uint16\n",
      "thr=threshold_niblack_k0, fn=20200311-DII-25las-GR1.tif, i=0, nlabs=10020\n",
      "thr=threshold_niblack_k0, fn=20200311-DII-25las-GR1.tif, i=1, nlabs=9929\n",
      "thr=threshold_niblack_k0, fn=20200311-DII-25las-GR1.tif, i=2, nlabs=9968\n",
      "thr=threshold_niblack_k0, fn=20200311-DII-25las-GR1.tif, i=3, nlabs=9961\n",
      "thr=threshold_niblack_k0, fn=20200311-DII-25las-GR1.tif, i=4, nlabs=9879\n",
      "thr=threshold_otsu, fn=20200311-DII-25las-GR1.tif, i=0, nlabs=14763\n",
      "thr=threshold_otsu, fn=20200311-DII-25las-GR1.tif, i=1, nlabs=11462\n",
      "thr=threshold_otsu, fn=20200311-DII-25las-GR1.tif, i=2, nlabs=15910\n",
      "thr=threshold_otsu, fn=20200311-DII-25las-GR1.tif, i=3, nlabs=15786\n",
      "thr=threshold_otsu, fn=20200311-DII-25las-GR1.tif, i=4, nlabs=15888\n",
      "thr=threshold_sauvola, fn=20200311-DII-25las-GR1.tif, i=0, nlabs=1\n",
      "thr=threshold_sauvola, fn=20200311-DII-25las-GR1.tif, i=1, nlabs=3\n",
      "thr=threshold_sauvola, fn=20200311-DII-25las-GR1.tif, i=2, nlabs=2\n",
      "thr=threshold_sauvola, fn=20200311-DII-25las-GR1.tif, i=3, nlabs=2\n",
      "thr=threshold_sauvola, fn=20200311-DII-25las-GR1.tif, i=4, nlabs=1\n",
      "uint16\n",
      "thr=threshold_niblack_k0, fn=20200226-DII-30las-2GR1.tif, i=0, nlabs=17610\n",
      "thr=threshold_niblack_k0, fn=20200226-DII-30las-2GR1.tif, i=1, nlabs=18005\n",
      "thr=threshold_niblack_k0, fn=20200226-DII-30las-2GR1.tif, i=2, nlabs=17564\n",
      "thr=threshold_niblack_k0, fn=20200226-DII-30las-2GR1.tif, i=3, nlabs=17483\n",
      "thr=threshold_niblack_k0, fn=20200226-DII-30las-2GR1.tif, i=4, nlabs=17994\n",
      "thr=threshold_otsu, fn=20200226-DII-30las-2GR1.tif, i=0, nlabs=661\n",
      "thr=threshold_otsu, fn=20200226-DII-30las-2GR1.tif, i=1, nlabs=650\n",
      "thr=threshold_otsu, fn=20200226-DII-30las-2GR1.tif, i=2, nlabs=627\n",
      "thr=threshold_otsu, fn=20200226-DII-30las-2GR1.tif, i=3, nlabs=609\n",
      "thr=threshold_otsu, fn=20200226-DII-30las-2GR1.tif, i=4, nlabs=636\n"
     ]
    },
    {
     "name": "stderr",
     "output_type": "stream",
     "text": [
      "C:\\Users\\Jirik\\Miniconda3\\envs\\scaffan\\lib\\site-packages\\ipykernel_launcher.py:36: UserWarning: threshold_otsu_20200226-DII-30las-2GR1.tif is a low contrast image\n"
     ]
    },
    {
     "name": "stdout",
     "output_type": "stream",
     "text": [
      "thr=threshold_sauvola, fn=20200226-DII-30las-2GR1.tif, i=0, nlabs=8\n",
      "thr=threshold_sauvola, fn=20200226-DII-30las-2GR1.tif, i=1, nlabs=2\n",
      "thr=threshold_sauvola, fn=20200226-DII-30las-2GR1.tif, i=2, nlabs=5\n",
      "thr=threshold_sauvola, fn=20200226-DII-30las-2GR1.tif, i=3, nlabs=4\n",
      "thr=threshold_sauvola, fn=20200226-DII-30las-2GR1.tif, i=4, nlabs=5\n",
      "uint16\n",
      "thr=threshold_niblack_k0, fn=20200226-DII-30las-2PRE1.tif, i=0, nlabs=15894\n",
      "thr=threshold_niblack_k0, fn=20200226-DII-30las-2PRE1.tif, i=1, nlabs=16003\n",
      "thr=threshold_niblack_k0, fn=20200226-DII-30las-2PRE1.tif, i=2, nlabs=16934\n",
      "thr=threshold_niblack_k0, fn=20200226-DII-30las-2PRE1.tif, i=3, nlabs=16789\n",
      "thr=threshold_niblack_k0, fn=20200226-DII-30las-2PRE1.tif, i=4, nlabs=16922\n",
      "thr=threshold_otsu, fn=20200226-DII-30las-2PRE1.tif, i=0, nlabs=290\n",
      "thr=threshold_otsu, fn=20200226-DII-30las-2PRE1.tif, i=1, nlabs=330\n",
      "thr=threshold_otsu, fn=20200226-DII-30las-2PRE1.tif, i=2, nlabs=291\n",
      "thr=threshold_otsu, fn=20200226-DII-30las-2PRE1.tif, i=3, nlabs=309\n",
      "thr=threshold_otsu, fn=20200226-DII-30las-2PRE1.tif, i=4, nlabs=288\n"
     ]
    },
    {
     "name": "stderr",
     "output_type": "stream",
     "text": [
      "C:\\Users\\Jirik\\Miniconda3\\envs\\scaffan\\lib\\site-packages\\ipykernel_launcher.py:36: UserWarning: threshold_otsu_20200226-DII-30las-2PRE1.tif is a low contrast image\n"
     ]
    },
    {
     "name": "stdout",
     "output_type": "stream",
     "text": [
      "thr=threshold_sauvola, fn=20200226-DII-30las-2PRE1.tif, i=0, nlabs=4\n",
      "thr=threshold_sauvola, fn=20200226-DII-30las-2PRE1.tif, i=1, nlabs=6\n",
      "thr=threshold_sauvola, fn=20200226-DII-30las-2PRE1.tif, i=2, nlabs=4\n",
      "thr=threshold_sauvola, fn=20200226-DII-30las-2PRE1.tif, i=3, nlabs=4\n",
      "thr=threshold_sauvola, fn=20200226-DII-30las-2PRE1.tif, i=4, nlabs=4\n",
      "uint16\n",
      "thr=threshold_niblack_k0, fn=20200311-DII-25las-PRE1.tif, i=0, nlabs=11344\n",
      "thr=threshold_niblack_k0, fn=20200311-DII-25las-PRE1.tif, i=1, nlabs=11229\n",
      "thr=threshold_niblack_k0, fn=20200311-DII-25las-PRE1.tif, i=2, nlabs=11128\n",
      "thr=threshold_niblack_k0, fn=20200311-DII-25las-PRE1.tif, i=3, nlabs=11215\n",
      "thr=threshold_niblack_k0, fn=20200311-DII-25las-PRE1.tif, i=4, nlabs=11248\n",
      "thr=threshold_otsu, fn=20200311-DII-25las-PRE1.tif, i=0, nlabs=9403\n",
      "thr=threshold_otsu, fn=20200311-DII-25las-PRE1.tif, i=1, nlabs=9620\n",
      "thr=threshold_otsu, fn=20200311-DII-25las-PRE1.tif, i=2, nlabs=9282\n",
      "thr=threshold_otsu, fn=20200311-DII-25las-PRE1.tif, i=3, nlabs=9369\n",
      "thr=threshold_otsu, fn=20200311-DII-25las-PRE1.tif, i=4, nlabs=9319\n",
      "thr=threshold_sauvola, fn=20200311-DII-25las-PRE1.tif, i=0, nlabs=3\n",
      "thr=threshold_sauvola, fn=20200311-DII-25las-PRE1.tif, i=1, nlabs=2\n",
      "thr=threshold_sauvola, fn=20200311-DII-25las-PRE1.tif, i=2, nlabs=2\n",
      "thr=threshold_sauvola, fn=20200311-DII-25las-PRE1.tif, i=3, nlabs=1\n",
      "thr=threshold_sauvola, fn=20200311-DII-25las-PRE1.tif, i=4, nlabs=4\n",
      "float32\n",
      "thr=threshold_niblack_k0, fn=20200305-r2d2-PRE3.tif, i=0, nlabs=20180\n",
      "thr=threshold_niblack_k0, fn=20200305-r2d2-PRE3.tif, i=1, nlabs=19855\n",
      "thr=threshold_niblack_k0, fn=20200305-r2d2-PRE3.tif, i=2, nlabs=19767\n",
      "thr=threshold_niblack_k0, fn=20200305-r2d2-PRE3.tif, i=3, nlabs=20105\n",
      "thr=threshold_niblack_k0, fn=20200305-r2d2-PRE3.tif, i=4, nlabs=20275\n",
      "thr=threshold_otsu, fn=20200305-r2d2-PRE3.tif, i=0, nlabs=102\n",
      "thr=threshold_otsu, fn=20200305-r2d2-PRE3.tif, i=1, nlabs=103\n",
      "thr=threshold_otsu, fn=20200305-r2d2-PRE3.tif, i=2, nlabs=97\n",
      "thr=threshold_otsu, fn=20200305-r2d2-PRE3.tif, i=3, nlabs=96\n",
      "thr=threshold_otsu, fn=20200305-r2d2-PRE3.tif, i=4, nlabs=97\n",
      "thr=threshold_sauvola, fn=20200305-r2d2-PRE3.tif, i=0, nlabs=0\n",
      "thr=threshold_sauvola, fn=20200305-r2d2-PRE3.tif, i=1, nlabs=0\n",
      "thr=threshold_sauvola, fn=20200305-r2d2-PRE3.tif, i=2, nlabs=0\n",
      "thr=threshold_sauvola, fn=20200305-r2d2-PRE3.tif, i=3, nlabs=0\n",
      "thr=threshold_sauvola, fn=20200305-r2d2-PRE3.tif, i=4, nlabs=0\n"
     ]
    },
    {
     "name": "stderr",
     "output_type": "stream",
     "text": [
      "C:\\Users\\Jirik\\Miniconda3\\envs\\scaffan\\lib\\site-packages\\ipykernel_launcher.py:36: UserWarning: threshold_sauvola_20200305-r2d2-PRE3.tif is a low contrast image\n"
     ]
    },
    {
     "name": "stdout",
     "output_type": "stream",
     "text": [
      "float32\n",
      "thr=threshold_niblack_k0, fn=20200305-r2d2-GR3.tif, i=0, nlabs=18093\n",
      "thr=threshold_niblack_k0, fn=20200305-r2d2-GR3.tif, i=1, nlabs=17698\n",
      "thr=threshold_niblack_k0, fn=20200305-r2d2-GR3.tif, i=2, nlabs=17496\n",
      "thr=threshold_niblack_k0, fn=20200305-r2d2-GR3.tif, i=3, nlabs=17716\n",
      "thr=threshold_niblack_k0, fn=20200305-r2d2-GR3.tif, i=4, nlabs=17168\n",
      "thr=threshold_otsu, fn=20200305-r2d2-GR3.tif, i=0, nlabs=124\n",
      "thr=threshold_otsu, fn=20200305-r2d2-GR3.tif, i=1, nlabs=128\n",
      "thr=threshold_otsu, fn=20200305-r2d2-GR3.tif, i=2, nlabs=119\n",
      "thr=threshold_otsu, fn=20200305-r2d2-GR3.tif, i=3, nlabs=115\n",
      "thr=threshold_otsu, fn=20200305-r2d2-GR3.tif, i=4, nlabs=119\n",
      "thr=threshold_sauvola, fn=20200305-r2d2-GR3.tif, i=0, nlabs=0\n",
      "thr=threshold_sauvola, fn=20200305-r2d2-GR3.tif, i=1, nlabs=0\n",
      "thr=threshold_sauvola, fn=20200305-r2d2-GR3.tif, i=2, nlabs=0\n",
      "thr=threshold_sauvola, fn=20200305-r2d2-GR3.tif, i=3, nlabs=0\n",
      "thr=threshold_sauvola, fn=20200305-r2d2-GR3.tif, i=4, nlabs=0\n"
     ]
    },
    {
     "name": "stderr",
     "output_type": "stream",
     "text": [
      "C:\\Users\\Jirik\\Miniconda3\\envs\\scaffan\\lib\\site-packages\\ipykernel_launcher.py:36: UserWarning: threshold_sauvola_20200305-r2d2-GR3.tif is a low contrast image\n"
     ]
    },
    {
     "name": "stdout",
     "output_type": "stream",
     "text": [
      "[Errno 28] No space left on device\n",
      "uint8\n",
      "thr=threshold_niblack_k0, fn=ControlAll-tiny.tif, i=0, nlabs=27037\n",
      "thr=threshold_niblack_k0, fn=ControlAll-tiny.tif, i=1, nlabs=25353\n",
      "thr=threshold_niblack_k0, fn=ControlAll-tiny.tif, i=2, nlabs=24583\n",
      "thr=threshold_niblack_k0, fn=ControlAll-tiny.tif, i=3, nlabs=23148\n",
      "thr=threshold_niblack_k0, fn=ControlAll-tiny.tif, i=4, nlabs=21836\n",
      "[Errno 28] No space left on device\n",
      "thr=threshold_otsu, fn=ControlAll-tiny.tif, i=0, nlabs=190\n",
      "thr=threshold_otsu, fn=ControlAll-tiny.tif, i=1, nlabs=200\n",
      "thr=threshold_otsu, fn=ControlAll-tiny.tif, i=2, nlabs=205\n",
      "thr=threshold_otsu, fn=ControlAll-tiny.tif, i=3, nlabs=209\n",
      "thr=threshold_otsu, fn=ControlAll-tiny.tif, i=4, nlabs=215\n",
      "[Errno 28] No space left on device\n",
      "thr=threshold_sauvola, fn=ControlAll-tiny.tif, i=0, nlabs=649\n",
      "thr=threshold_sauvola, fn=ControlAll-tiny.tif, i=1, nlabs=757\n",
      "thr=threshold_sauvola, fn=ControlAll-tiny.tif, i=2, nlabs=763\n",
      "thr=threshold_sauvola, fn=ControlAll-tiny.tif, i=3, nlabs=770\n",
      "thr=threshold_sauvola, fn=ControlAll-tiny.tif, i=4, nlabs=755\n",
      "[Errno 28] No space left on device\n"
     ]
    }
   ],
   "source": [
    "dfd = {\n",
    "    \"labels\": [],\n",
    "    \"threshold\": [],\n",
    "    \"threshold std\": [],\n",
    "    \"fn\": [],\n",
    "    \"threshold function\": [],\n",
    "    \"frame_id\": []\n",
    "}\n",
    "\n",
    "for fn in fns[4:]:\n",
    "    img = get_image(fn)\n",
    "    print(img.dtype)\n",
    "\n",
    "    for threshold_fcn in thr_fcns:\n",
    "    # threshold_fcn = thr_fcns[1]\n",
    "\n",
    "        iml = np.zeros_like(img, dtype = np.uint8)\n",
    "        for i in range(5):\n",
    "#         for i in range(img.shape[0]):\n",
    "            threshold = threshold_fcn(img[i,:,:])\n",
    "            imthr_frame = img[i,:,:] > threshold\n",
    "            iml_frame = skimage.morphology.label(imthr_frame)\n",
    "\n",
    "            iml[i,:,:] = imthr_frame\n",
    "            dfd[\"threshold\"].append(np.mean(threshold))\n",
    "            dfd[\"threshold std\"].append(np.std(threshold))\n",
    "            nlabs = np.max(iml_frame)\n",
    "            dfd[\"labels\"].append(nlabs)\n",
    "            fnname = Path(fn).name\n",
    "            dfd[\"fn\"].append(fnname)\n",
    "            dfd[\"threshold function\"].append(threshold_fcn.__name__)\n",
    "            dfd[\"frame_id\"].append(i)\n",
    "\n",
    "            print(f\"thr={threshold_fcn.__name__}, fn={fnname}, i={i}, nlabs={nlabs}\")\n",
    "        try:\n",
    "            skimage.io.imsave(threshold_fcn.__name__ +\"_\"+ Path(fn).name, iml*128)\n",
    "        except Exception as e:\n",
    "            print(e)\n",
    "            pass\n",
    "\n",
    "    \n",
    "    \n",
    "\n",
    "    "
   ]
  },
  {
   "cell_type": "code",
   "execution_count": 63,
   "metadata": {},
   "outputs": [
    {
     "name": "stdout",
     "output_type": "stream",
     "text": [
      "uint8\n",
      "threshold_sauvola_nuova_ControlAll-tiny.tif\n"
     ]
    }
   ],
   "source": [
    "fn0 = threshold_fcn.__name__ +\"_nuova_\"+ Path(fn).name\n",
    "print(iml.dtype)\n",
    "print(fn0)\n",
    "skimage.io.imsave(fn0, iml[:4,:,:]*128, plugin='tifffile')"
   ]
  },
  {
   "cell_type": "code",
   "execution_count": 62,
   "metadata": {},
   "outputs": [
    {
     "data": {
      "text/plain": [
       "{'imread': ['imageio', 'matplotlib', 'tifffile'],\n",
       " 'imsave': ['imageio', 'tifffile'],\n",
       " 'imshow': ['matplotlib'],\n",
       " 'imread_collection': ['imageio', 'matplotlib', 'tifffile'],\n",
       " 'imshow_collection': ['matplotlib'],\n",
       " '_app_show': ['matplotlib']}"
      ]
     },
     "execution_count": 62,
     "metadata": {},
     "output_type": "execute_result"
    }
   ],
   "source": [
    "skimage.io.plugin_order()"
   ]
  },
  {
   "cell_type": "code",
   "execution_count": 42,
   "metadata": {},
   "outputs": [
    {
     "data": {
      "text/plain": [
       "'C:\\\\Users\\\\Jirik\\\\projects\\\\celltrack\\\\devel'"
      ]
     },
     "execution_count": 42,
     "metadata": {},
     "output_type": "execute_result"
    }
   ],
   "source": [
    "%pwd"
   ]
  },
  {
   "cell_type": "code",
   "execution_count": 43,
   "metadata": {},
   "outputs": [],
   "source": [
    "df = pd.DataFrame(dfd)\n",
    "df.to_excel(\"thr.xlsx\")"
   ]
  },
  {
   "cell_type": "code",
   "execution_count": 44,
   "metadata": {},
   "outputs": [
    {
     "data": {
      "text/plain": [
       "<matplotlib.axes._subplots.AxesSubplot at 0x16d81075dd8>"
      ]
     },
     "execution_count": 44,
     "metadata": {},
     "output_type": "execute_result"
    },
    {
     "data": {
      "image/png": "[encoded data removed]",
      "text/plain": [
       "<Figure size 432x288 with 1 Axes>"
      ]
     },
     "metadata": {
      "needs_background": "light"
     },
     "output_type": "display_data"
    }
   ],
   "source": [
    "sns.boxplot(data=df, hue=\"threshold function\", x=\"labels\", y=\"fn\")"
   ]
  }
 ],
 "metadata": {
  "kernelspec": {
   "display_name": "Python 3",
   "language": "python",
   "name": "python3"
  },
  "language_info": {
   "codemirror_mode": {
    "name": "ipython",
    "version": 3
   },
   "file_extension": ".py",
   "mimetype": "text/x-python",
   "name": "python",
   "nbconvert_exporter": "python",
   "pygments_lexer": "ipython3",
   "version": "3.6.6"
  },
  "toc": {
   "base_numbering": 1,
   "nav_menu": {},
   "number_sections": true,
   "sideBar": true,
   "skip_h1_title": false,
   "title_cell": "Table of Contents",
   "title_sidebar": "Contents",
   "toc_cell": false,
   "toc_position": {
    "height": "calc(100% - 180px)",
    "left": "10px",
    "top": "150px",
    "width": "304.475px"
   },
   "toc_section_display": true,
   "toc_window_display": true
  }
 },
 "nbformat": 4,
 "nbformat_minor": 2
}
